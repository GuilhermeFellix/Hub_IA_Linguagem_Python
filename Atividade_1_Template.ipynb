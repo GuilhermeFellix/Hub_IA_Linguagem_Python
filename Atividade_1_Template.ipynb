{
 "cells": [
  {
   "cell_type": "markdown",
   "metadata": {
    "id": "cXC4WikDkE8r"
   },
   "source": [
    "### **Atividade com Nota**\n",
    "Link de envio:\n",
    "https://forms.gle/rEGR8vXj365VcV628"
   ]
  },
  {
   "cell_type": "markdown",
   "metadata": {
    "id": "e9QTLDi29NKd"
   },
   "source": [
    "#### Exercício 1: Análise de Dados de Vendas\n",
    "\n",
    "- Você recebeu os dados de vendas de uma loja durante um mês;\n",
    "- Eles estão organizados em uma lista de tuplas, onde cada tupla contém o **nome do produto**, a **quantidade vendida** e o **valor total da venda**. Você deve realizar uma análise utilizando listas, compreensão de listas, `itertools`, dicionários e conjuntos.\n",
    "\n",
    "#### Dados fornecidos:\n",
    "```python\n",
    "vendas = [\n",
    "    ('Camiseta', 10, 200),\n",
    "    ('Calça', 5, 250),\n",
    "    ('Jaqueta', 2, 300),\n",
    "    ('Camiseta', 7, 140),\n",
    "    ('Calça', 3, 150),\n",
    "    ('Boné', 4, 80),\n",
    "    ('Jaqueta', 1, 150),\n",
    "    ('Camiseta', 8, 160),\n",
    "    ('Boné', 3, 60),\n",
    "]\n",
    "```\n",
    "\n",
    "#### Tarefas:\n",
    "\n",
    "1. **Listas e Compreensão de Listas**:\n",
    "   - Crie uma nova lista contendo apenas os produtos únicos vendidos (sem repetições). Use uma compreensão de lista e um conjunto (`set`) para garantir que não haja duplicatas.\n",
    "\n",
    "2. **itertools**:\n",
    "   - Use `itertools` para agrupar as vendas por produto e somar a quantidade total vendida para cada produto.\n",
    "\n",
    "3. **Dicionários**:\n",
    "   - Crie um dicionário onde as chaves são os produtos e os valores são listas que contêm a quantidade total vendida e o valor total de vendas de cada produto.\n",
    "\n",
    "4. **Conjuntos**:\n",
    "   - Crie dois conjuntos: um contendo os produtos vendidos com mais de 20 unidades e outro contendo os produtos que geraram um valor total de vendas superior a 500.\n",
    "\n"
   ]
  },
  {
   "cell_type": "markdown",
   "metadata": {
    "id": "IyWvWpmJ9wEJ"
   },
   "source": [
    "#### Exemplo de Saída Esperada:"
   ]
  },
  {
   "cell_type": "raw",
   "metadata": {
    "id": "hJSSRdZ19rcl"
   },
   "source": [
    "# Produtos únicos vendidos\n",
    "['Camiseta', 'Calça', 'Jaqueta', 'Boné']\n",
    "\n",
    "# Quantidade total vendida por produto\n",
    "{'Camiseta': 25, 'Calça': 8, 'Jaqueta': 3, 'Boné': 7}\n",
    "\n",
    "# Dicionário com quantidade e valor total de vendas por produto\n",
    "{'Camiseta': [25, 500], 'Calça': [8, 400], 'Jaqueta': [3, 450], 'Boné': [7, 140]}\n",
    "\n",
    "# Conjuntos de produtos com mais de 20 unidades vendidas e mais de 500 em vendas totais\n",
    "Produtos com mais de 20 unidades vendidas: {'Camiseta'}\n",
    "Produtos com mais de 500 em vendas totais: {'Camiseta', 'Jaqueta'}"
   ]
  },
  {
   "cell_type": "code",
   "execution_count": 59,
   "metadata": {},
   "outputs": [],
   "source": [
    "vendas = [\n",
    "    ('Camiseta', 10, 200),\n",
    "    ('Calça', 5, 250),\n",
    "    ('Jaqueta', 2, 300),\n",
    "    ('Camiseta', 7, 140),\n",
    "    ('Calça', 3, 150),\n",
    "    ('Boné', 4, 80),\n",
    "    ('Jaqueta', 1, 150),\n",
    "    ('Camiseta', 8, 160),\n",
    "    ('Boné', 3, 60),\n",
    "]"
   ]
  },
  {
   "cell_type": "code",
   "execution_count": 61,
   "metadata": {
    "id": "SuHsBb9hjHzP"
   },
   "outputs": [
    {
     "name": "stdout",
     "output_type": "stream",
     "text": [
      "Primeira questão\n",
      "['Calça', 'Boné', 'Jaqueta', 'Camiseta']\n",
      "Segunda questão\n",
      "{'Boné': 7, 'Calça': 8, 'Camiseta': 25, 'Jaqueta': 3}\n",
      "Terceira Questão\n",
      "{'Boné': [7, 140], 'Calça': [8, 400], 'Camiseta': [25, 500], 'Jaqueta': [3, 450]}\n",
      "Quarta Questão\n",
      "{'Camiseta'}\n",
      "Quinta Questão\n",
      "set()\n"
     ]
    }
   ],
   "source": [
    "#1 - Listas e Compreensão de Listas\n",
    "#Vamos ordernar as vendas de acordo com o item\n",
    "vendas = sorted(vendas,key = lambda x:x[0])\n",
    "\n",
    "\n",
    "produtos_vendidos = list(set([produto[0] for produto in vendas]))\n",
    "\n",
    "print('Primeira questão')\n",
    "print(produtos_vendidos)\n",
    "\n",
    "#######################################\n",
    "\n",
    "#2 Itertools\n",
    "import itertools\n",
    "\n",
    "#Criando um dicionário para armazenar os dados\n",
    "vendas_categoria={}\n",
    "\n",
    "for item,agrupamento in itertools.groupby(vendas, key = lambda x:x[0]):\n",
    "    dados_agrupamento = list(agrupamento)\n",
    "    qtde_vendida = sum(item[1] for item in dados_agrupamento)\n",
    "    #print(item)\n",
    "    #print(qtde_vendida)\n",
    "    vendas_categoria[item] = qtde_vendida\n",
    "\n",
    "print('Segunda questão')\n",
    "print(vendas_categoria)\n",
    "\n",
    "\n",
    "#######################################\n",
    "\n",
    "#3 Dicionários\n",
    "\n",
    "dados_categoria = {}\n",
    "for item,agrupamento in itertools.groupby(vendas, key = lambda x:x[0]):\n",
    "    valor_qtd = []\n",
    "    dados_agrupamento = list(agrupamento)\n",
    "    qtde_vendida = sum(item[1] for item in dados_agrupamento)\n",
    "    valor_total = sum(item[2] for item in dados_agrupamento)\n",
    "    valor_qtd.append(qtde_vendida)\n",
    "    valor_qtd.append(valor_total)\n",
    "    #print(item)\n",
    "    #print(qtde_vendida)\n",
    "    dados_categoria[item] = valor_qtd\n",
    "\n",
    "print('Terceira Questão')\n",
    "print(dados_categoria)\n",
    "\n",
    "\n",
    "\n",
    "#######################################\n",
    "\n",
    "#4 Conjuntos\n",
    "\n",
    "conjunto_menos_20_qtd = set()\n",
    "itens_menos_20_qtd = {chave for chave,valor in zip(dados_categoria.keys(),dados_categoria.values()) if valor[0] >20}\n",
    "conjunto_menos_20_qtd.update(itens_menos_20_qtd)\n",
    "print('Quarta Questão')\n",
    "print(conjunto_menos_20_qtd)\n",
    "\n",
    "conjunto_mais_500_valor = set()\n",
    "itens_mais_500_valor = {chave for chave,valor in zip(dados_categoria.keys(),dados_categoria.values()) if valor[1] >500}\n",
    "#conjunto_mais_500_valor.update(itens_mais_500_valor)\n",
    "print('Quinta Questão')\n",
    "print(itens_mais_500_valor)\n",
    "\n",
    "\n"
   ]
  },
  {
   "cell_type": "markdown",
   "metadata": {
    "id": "61JcTLEujIVM"
   },
   "source": [
    "### Exercício 2: Análise de Dados de Alunos\n",
    "\n",
    "Você tem uma lista com registros de alunos, onde cada registro contém o nome do aluno, a disciplina e a nota final que ele obteve. Você precisa processar esses dados para extrair informações específicas e responder a algumas perguntas sobre o desempenho dos alunos.\n",
    "\n"
   ]
  },
  {
   "cell_type": "code",
   "execution_count": 9,
   "metadata": {
    "id": "zXcxd76pkGJV"
   },
   "outputs": [],
   "source": [
    "#### Dados fornecidos:\n",
    "alunos = [\n",
    "    ('Alice', 'Matemática', 85),\n",
    "    ('Bob', 'História', 78),\n",
    "    ('Alice', 'História', 95),\n",
    "    ('Bob', 'Matemática', 82),\n",
    "    ('Carlos', 'Matemática', 70),\n",
    "    ('Carlos', 'História', 65),\n",
    "    ('Alice', 'Física', 90),\n",
    "    ('Bob', 'Física', 85),\n",
    "    ('Carlos', 'Física', 75),\n",
    "    ('Diana', 'Matemática', 88),\n",
    "    ('Diana', 'História', 92),\n",
    "    ('Diana', 'Física', 95),\n",
    "]"
   ]
  },
  {
   "cell_type": "markdown",
   "metadata": {
    "id": "NH1nPS5hkGkT"
   },
   "source": [
    "#### Tarefas:\n",
    "\n",
    "1. **Listas e Compreensão de Listas**:\n",
    "   - Crie uma lista de todas as disciplinas disponíveis (sem duplicação), usando uma compreensão de lista e um conjunto para garantir que não haja repetições.\n",
    "\n",
    "2. **Agrupamento de Notas por Aluno**:\n",
    "   - Crie um dicionário onde as chaves são os nomes dos alunos e os valores são listas com as notas. Em seguida, calcule a média das notas para cada aluno.\n",
    "\n",
    "3. **Dicionários**:\n",
    "   - Crie um dicionário que armazene as notas de cada aluno para cada disciplina. As chaves devem ser os nomes dos alunos, e os valores devem ser dicionários onde as chaves são as disciplinas e os valores são as notas.\n",
    "\n",
    "4. **Conjuntos**:\n",
    "   - Crie dois conjuntos:\n",
    "     - Um contendo os nomes dos alunos que têm uma média superior a 80.\n",
    "     - Outro contendo os nomes dos alunos que obtiveram nota superior a 90 em pelo menos uma disciplina.\n",
    "\n"
   ]
  },
  {
   "cell_type": "code",
   "execution_count": 11,
   "metadata": {
    "id": "0QJJNHmpji77"
   },
   "outputs": [
    {
     "data": {
      "text/plain": [
       "{'Alice', 'Diana'}"
      ]
     },
     "execution_count": 11,
     "metadata": {},
     "output_type": "execute_result"
    }
   ],
   "source": [
    "#### Exemplo de Saída Esperada:\n",
    "# Disciplinas disponíveis:\n",
    "['Matemática', 'História', 'Física']\n",
    "# Média de notas por aluno:\n",
    "{'Alice': 90.0, 'Bob': 81.67, 'Carlos': 70.0, 'Diana': 91.67}\n",
    "# Notas de cada aluno por disciplina:\n",
    "{'Alice': {'Matemática': 85, 'História': 95, 'Física': 90}, 'Bob': {'História': 78, 'Matemática': 82, 'Física': 85}, 'Carlos': {'Matemática': 70, 'História': 65, 'Física': 75}, 'Diana': {'Matemática': 88, 'História': 92, 'Física': 95}}\n",
    "# Alunos com média superior a 80:\n",
    "{'Alice', 'Bob', 'Diana'}\n",
    "# Alunos com nota superior a 90 em pelo menos uma disciplina:\n",
    "{'Alice', 'Diana'}"
   ]
  },
  {
   "cell_type": "code",
   "execution_count": 127,
   "metadata": {},
   "outputs": [
    {
     "name": "stdout",
     "output_type": "stream",
     "text": [
      "Primeira questão\n",
      "['Física', 'História', 'Matemática']\n",
      "Segunda Questão\n",
      "{'Alice': 90.0, 'Bob': 81.67, 'Carlos': 70.0, 'Diana': 91.67}\n",
      "Terceira Questão\n",
      "{'Alice': {'Matemática': 85, 'História': 95, 'Física': 90}, 'Bob': {'História': 78, 'Matemática': 82, 'Física': 85}, 'Carlos': {'Matemática': 70, 'História': 65, 'Física': 75}, 'Diana': {'Matemática': 88, 'História': 92, 'Física': 95}}\n",
      "Quarta Questão\n",
      "{'Diana', 'Bob', 'Alice'}\n",
      "Quinta Questão\n",
      "{'Diana', 'Alice'}\n"
     ]
    }
   ],
   "source": [
    "#1 - Listas e Compreensão de Listas\n",
    "#Vamor ordenar a lista de nome de alunos em função do nome\n",
    "\n",
    "alunos = sorted(alunos, key = lambda x: x[0])\n",
    "\n",
    "disciplinas = list(set([aluno[1] for aluno in alunos]))\n",
    "\n",
    "print('Primeira questão')\n",
    "print(disciplinas)\n",
    "\n",
    "\n",
    "#######################################\n",
    "\n",
    "#2 Itertools\n",
    "import itertools\n",
    "medias = {}\n",
    "\n",
    "for aluno, notas in itertools.groupby(alunos, key = lambda x: x[0]):\n",
    "   dados_notas = list(notas)\n",
    "   total_notas = sum(nota[2] for nota in dados_notas)\n",
    "   media_notas = total_notas / len(dados_notas)\n",
    "   medias[aluno] = round(media_notas,2)\n",
    "\n",
    "print('Segunda Questão')\n",
    "print(medias)\n",
    "\n",
    "\n",
    "#######################################\n",
    "\n",
    "#3 Dicionários\n",
    "\n",
    "notas_alunos = {}\n",
    "\n",
    "for aluno, notas in itertools.groupby(alunos, key = lambda x: x[0]):\n",
    "    notas_individuais = {}\n",
    "    dados_notas = list(notas)\n",
    "    for disciplina in dados_notas:\n",
    "        notas_individuais[disciplina[1]] = disciplina[2]\n",
    "    notas_alunos[aluno] = notas_individuais\n",
    "\n",
    "print('Terceira Questão')\n",
    "print(notas_alunos)\n",
    "\n",
    "#######################################\n",
    "\n",
    "#4 Conjuntos\n",
    "\n",
    "conjunto_superior_80 = set()\n",
    "alunos_superior_80 = {chave for chave,valor in zip(medias.keys(),medias.values()) if valor >80}\n",
    "conjunto_superior_80.update(alunos_superior_80)\n",
    "print('Quarta Questão')\n",
    "print(conjunto_superior_80)\n",
    "\n",
    "conjunto_superior_90 = set()\n",
    "\n",
    "superior_90 = []\n",
    "for aluno,valor in zip(notas_alunos.keys(),notas_alunos.values()):\n",
    "    #print(aluno,valor)\n",
    "    for nota in valor.values():\n",
    "        if(nota >90):\n",
    "            superior_90.append(aluno)\n",
    "        else:\n",
    "            pass\n",
    "conjunto_superior_90 = set(superior_90)\n",
    "print('Quinta Questão')\n",
    "print(conjunto_superior_90)"
   ]
  }
 ],
 "metadata": {
  "colab": {
   "provenance": []
  },
  "kernelspec": {
   "display_name": "Python 3 (ipykernel)",
   "language": "python",
   "name": "python3"
  },
  "language_info": {
   "codemirror_mode": {
    "name": "ipython",
    "version": 3
   },
   "file_extension": ".py",
   "mimetype": "text/x-python",
   "name": "python",
   "nbconvert_exporter": "python",
   "pygments_lexer": "ipython3",
   "version": "3.12.4"
  }
 },
 "nbformat": 4,
 "nbformat_minor": 4
}
